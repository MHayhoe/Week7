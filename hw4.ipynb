{
 "cells": [
  {
   "cell_type": "markdown",
   "metadata": {},
   "source": [
    " ## HW4 - Ships in Satellite imagery\n",
    " \n",
    "In this homework you will work on an actual Kaggle competition. The instructions and guidance will be at a minimum level, just to encourage your independence and creativity.\n",
    "\n",
    "Feel free to read, re-run and use existing Jupyter notebooks in the competition page. Going over examples is a great way of learning. However, please don't copy/paste parts of the code without first fully understanding them.\n",
    "\n",
    "The data size for this homework is larger than previous datasets. This may result in longer running times, depending on your hardware configuration. For this reason, I highly recommend you to:\n",
    "- select first a smaller \"pilot\" dataset (e.g. 20% of the data)\n",
    "- implement and test your code using this pilot data, and\n",
    "- once you have a final version, run it on the complete set"
   ]
  },
  {
   "cell_type": "markdown",
   "metadata": {},
   "source": [
    "### S1:\n",
    "\n",
    "Visit the Kaggle competition \"Ships in Satellite Imagery\".\n",
    "\n",
    "https://www.kaggle.com/akshaymewada7/ships-in-satellite-imagery-dataset-using-sklearn\n",
    "\n",
    "Check the description, data, activities and scripts. HW4 will use the \"Ships\" dataset. Download the data to your PC/laptop (data size 434 MB). The data is kept in .json format and reading it in Python is pretty straightforward. See example notebooks.\n",
    "\n",
    "- Q1: What is the number of images in this dataset:   ___\n",
    "- Q2: What is the number of different labels in this dataset:   ___\n",
    "- Q3: What is the size of each image in this dataset:   ___\n"
   ]
  },
  {
   "cell_type": "markdown",
   "metadata": {},
   "source": [
    "### S2:\n",
    "\n",
    "Select all \"ship\" images, convert 3-channel (RGB) images to single-channel (Gray) (hint: scikit has the function \"rgb2gray\"). Flatten the images into a data matrix and apply PCA on them. Display the first 4 principal components as 2D images.\n",
    "\n",
    "- Q1: What is the number of \"ship\" images:   ___\n",
    "- Q2: What is the total variance explained by the first 5 PCA components:   ___\n",
    "- Q3: How many PCA components are required to explain at least 50% of the variance:   ___"
   ]
  },
  {
   "cell_type": "markdown",
   "metadata": {},
   "source": [
    "### S3:\n",
    "\n",
    "Select all images, convert 3-channel (RGB) images to single-channel (Gray) (hint: scikit has the function \"rgb2gray\"). Fletten the images into a data matrix and apply PCA on them. Display the first 4 principal components as 2D images\n",
    "\n",
    "- Q1: What is the total variance explained by the first 5 PCA components:   ___\n",
    "- Q2: How many PCA components are required to explain at least 50% of the variance:   ___\n",
    "- Q3: Comment on the differences in variance explained in comparison to S2: ___"
   ]
  },
  {
   "cell_type": "markdown",
   "metadata": {},
   "source": [
    "### S4:\n",
    "Apply k-means clustering on all \"ship\" images for 4 clusters. Calculate the \"mean\" image for each cluster and display it.\n",
    "\n",
    "- Q1: Comment on the clusters detected. Is there a common pattern for each cluster? Are the ships grouped based on orientation, image intensity differences, or something else?"
   ]
  },
  {
   "cell_type": "markdown",
   "metadata": {},
   "source": [
    "### S5:\n",
    "Apply k-means clustering on all images for 2 clusters. \n",
    "\n",
    "- Q1: Calculate the \"accuracy\" of your clustering to discriminate ships from non-ship images. Show a two-by-two confusion matrix (to display the number/percentage of samples in clusters 1/2 and with labels 0/1)"
   ]
  },
  {
   "cell_type": "markdown",
   "metadata": {},
   "source": [
    "### S6:\n",
    "Split the data into train and test sets (50/50 split). Train a linear SVM with default parameters. Apply it on the test dataset.\n",
    "\n",
    "- Q1: What is the training accuracy? ___\n",
    "- Q2: What is the testing accuracy? ___\n",
    "- Q3: What is the AUC? ___"
   ]
  },
  {
   "cell_type": "markdown",
   "metadata": {},
   "source": [
    "### S7:\n",
    "Train \"your best classifier\". You can use parameter optimization, different classifiers, feature dimensionality reduction, or any other processing step for feature extraction on the data.\n",
    "\n",
    "Add comments in your script to make it understandable to others.\n",
    "\n",
    "Make sure that you cross-validate your classifier properly.\n",
    "\n",
    "The 3 classifiers with the highest accuracy will have a bonus proportional with their rank.\n",
    "\n",
    "- Q1: What is the 10-fold testing accuracy of your classifier?\n"
   ]
  }
 ],
 "metadata": {
  "kernelspec": {
   "display_name": "Python 3",
   "language": "python",
   "name": "python3"
  },
  "language_info": {
   "codemirror_mode": {
    "name": "ipython",
    "version": 3
   },
   "file_extension": ".py",
   "mimetype": "text/x-python",
   "name": "python",
   "nbconvert_exporter": "python",
   "pygments_lexer": "ipython3",
   "version": "3.7.3"
  }
 },
 "nbformat": 4,
 "nbformat_minor": 2
}
