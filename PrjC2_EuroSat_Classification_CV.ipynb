{
 "cells": [
  {
   "cell_type": "code",
   "execution_count": 1,
   "metadata": {
    "colab": {},
    "colab_type": "code",
    "id": "lGHBC3kR931B"
   },
   "outputs": [],
   "source": [
    "import sys\n",
    "import numpy as np\n",
    "import pandas as pd\n",
    "import os\n",
    "from skimage.transform import resize\n",
    "import pickle\n",
    "import matplotlib\n",
    "import matplotlib.pyplot as plt\n",
    "from sklearn import cluster\n",
    "\n",
    "import matplotlib.pyplot as plt\n",
    "from sklearn.svm import SVC\n",
    "from sklearn.ensemble import RandomForestClassifier\n",
    "from sklearn.model_selection import train_test_split\n",
    "from sklearn.model_selection import StratifiedShuffleSplit\n",
    "from sklearn.model_selection import StratifiedKFold\n",
    "\n",
    "from sklearn.utils import shuffle\n",
    "\n",
    "from sklearn import preprocessing"
   ]
  },
  {
   "cell_type": "code",
   "execution_count": 2,
   "metadata": {
    "colab": {},
    "colab_type": "code",
    "id": "tj44FkgbppQz"
   },
   "outputs": [],
   "source": [
    "############################################\n",
    "## Functions\n",
    "\n",
    "def scaleImgPerc(imgIn, percLow, percHigh):\n",
    "    if len(imgIn.shape) == 2:\n",
    "        imgIn = imgIn.reshape([imgIn.shape[0], imgIn.shape[1], 1])\n",
    "        \n",
    "    w, h, d = imgIn.shape\n",
    "    imgIn = np.reshape(imgIn, [w * h, d]).astype(np.float64)\n",
    "    mins = np.percentile(imgIn, percLow, axis=0)\n",
    "    ranges = np.percentile(imgIn, percHigh, axis=0) - mins\n",
    "    imgIn = (imgIn - mins[None, :]) / ranges[None, :]\n",
    "    imgIn = np.reshape(imgIn, [w, h, d])\n",
    "    imgIn = imgIn.clip(0, 1)\n",
    "    return imgIn\n",
    "\n",
    "def imgToFeatVec(imgIn):\n",
    "    dataMat = pickle.load(open(imgIn, \"rb\"))\n",
    "    dataMat = dataMat[:,:,0].squeeze().flatten()\n",
    "    return dataMat"
   ]
  },
  {
   "cell_type": "code",
   "execution_count": 3,
   "metadata": {
    "colab": {},
    "colab_type": "code",
    "id": "J34TtX25pv4f"
   },
   "outputs": [
    {
     "data": {
      "text/plain": [
       "'../PrjData/Prj_EuroSat/Out/Data_p20_c2-4-5-8-9/ListImages_p20_c2-4-5-8-9.csv'"
      ]
     },
     "execution_count": 3,
     "metadata": {},
     "output_type": "execute_result"
    }
   ],
   "source": [
    "############################################\n",
    "## Hard coded paths and vars\n",
    "BDIR = '../PrjData/Prj_EuroSat/Out/Data_p20_c2-4-5-8-9'\n",
    "listImg = BDIR + '/ListImages_p20_c2-4-5-8-9.csv'\n",
    "\n",
    "SEL_LABEL = 'Forest'\n",
    "listImg"
   ]
  },
  {
   "cell_type": "code",
   "execution_count": 4,
   "metadata": {
    "colab": {},
    "colab_type": "code",
    "id": "BMijb6NOp0PP"
   },
   "outputs": [],
   "source": [
    "## Read data\n",
    "df = pd.read_csv(listImg)\n",
    "df['MatName'] = BDIR + '/ImagesMat/' + df.ImgName + '.p'\n"
   ]
  },
  {
   "cell_type": "code",
   "execution_count": 5,
   "metadata": {},
   "outputs": [],
   "source": [
    "## Binarize categories (selected label=1, others=0)\n",
    "df['CAT'] = 0\n",
    "df.loc[df.CType==SEL_LABEL, 'CAT'] = 1\n",
    "\n",
    "featVecSize = imgToFeatVec(df.MatName[0]).shape[0]\n",
    "dataMat = np.zeros([df.shape[0], featVecSize])\n",
    "\n",
    "for i, tmpRow in df.iterrows():\n",
    "    dataMat[i,:] = imgToFeatVec(tmpRow.MatName)\n",
    "labels = np.array(df.CAT)\n"
   ]
  },
  {
   "cell_type": "markdown",
   "metadata": {},
   "source": [
    "## Split sample training/testing"
   ]
  },
  {
   "cell_type": "code",
   "execution_count": 7,
   "metadata": {
    "colab": {},
    "colab_type": "code",
    "id": "yLGALttop6Av"
   },
   "outputs": [],
   "source": [
    "### Select balanced training data\n",
    "indPos = np.where(labels==1)[0]\n",
    "indNeg = shuffle(np.where(labels==0)[0], random_state=42)[0:indPos.shape[0]]\n",
    "\n",
    "indBal = shuffle(np.concatenate([indPos,indNeg]), random_state=42)\n",
    "\n",
    "XBal = dataMat[indBal, :]\n",
    "YBal = labels[indBal]\n",
    "\n",
    "scaler = preprocessing.StandardScaler().fit(XBal)\n",
    "XBalSc = scaler.transform(XBal)\n",
    "\n",
    "X = XBalSc\n",
    "y = YBal\n",
    "\n",
    "X_train, X_test, y_train, y_test = train_test_split(XBalSc, YBal, stratify = YBal, train_size = 0.5, random_state=42)"
   ]
  },
  {
   "cell_type": "code",
   "execution_count": 8,
   "metadata": {
    "colab": {
     "base_uri": "https://localhost:8080/",
     "height": 69
    },
    "colab_type": "code",
    "executionInfo": {
     "elapsed": 575254,
     "status": "ok",
     "timestamp": 1581351631548,
     "user": {
      "displayName": "Guray Erus",
      "photoUrl": "",
      "userId": "15374812584437350386"
     },
     "user_tz": 300
    },
    "id": "zMVisPsxp9g_",
    "outputId": "83b16b63-988b-43c7-936b-67d1d53166a3"
   },
   "outputs": [
    {
     "name": "stdout",
     "output_type": "stream",
     "text": [
      "Train size: 600\n",
      "Training the model ...\n",
      "Applying the model ...\n"
     ]
    }
   ],
   "source": [
    "svc = SVC(kernel='linear')\n",
    "\n",
    "print('Train size: ' + str(y_train.shape[0]))\n",
    "\n",
    "### Training the model\n",
    "print('Training the model ...')\n",
    "svc.fit(X_train, y_train)\n",
    "\n",
    "print('Applying the model ...')\n",
    "yPred = svc.predict(X_test)"
   ]
  },
  {
   "cell_type": "code",
   "execution_count": 9,
   "metadata": {
    "colab": {
     "base_uri": "https://localhost:8080/",
     "height": 35
    },
    "colab_type": "code",
    "executionInfo": {
     "elapsed": 575247,
     "status": "ok",
     "timestamp": 1581351631549,
     "user": {
      "displayName": "Guray Erus",
      "photoUrl": "",
      "userId": "15374812584437350386"
     },
     "user_tz": 300
    },
    "id": "AKo_xmXS0iMp",
    "outputId": "ac919248-565a-4498-b6d6-12cea7b8be51"
   },
   "outputs": [
    {
     "name": "stdout",
     "output_type": "stream",
     "text": [
      "Accuracy: 84.83333333333333\n"
     ]
    }
   ],
   "source": [
    "print( 'Accuracy: ' + str(100 * np.sum(yPred==y_test) / y_test.shape[0]))"
   ]
  },
  {
   "cell_type": "markdown",
   "metadata": {},
   "source": [
    "## k-Fold Cross-Validation (CV)"
   ]
  },
  {
   "cell_type": "code",
   "execution_count": 19,
   "metadata": {},
   "outputs": [
    {
     "name": "stdout",
     "output_type": "stream",
     "text": [
      "Training the model for fold: 0\n",
      "  Acc : 0.8533333333333334\n",
      "Training the model for fold: 1\n",
      "  Acc : 0.86\n",
      "Training the model for fold: 2\n",
      "  Acc : 0.8366666666666667\n",
      "Training the model for fold: 3\n",
      "  Acc : 0.8266666666666667\n",
      "Avg Acc. :0.8441666666666666\n",
      "Acc. for the combined folds :0.8441666666666666\n"
     ]
    }
   ],
   "source": [
    "NUM_FOLD = 4 \n",
    "\n",
    "from sklearn.model_selection import KFold\n",
    "kf = KFold(n_splits=4)\n",
    "\n",
    "yPredAll = np.zeros(y.shape[0])\n",
    "accAll = np.zeros(NUM_FOLD)\n",
    "\n",
    "svc = SVC(kernel='linear')\n",
    "\n",
    "indFold = 0\n",
    "for train_index, test_index in kf.split(X):\n",
    "\n",
    "    XTrain   = X[train_index]\n",
    "    yTrain = y[train_index]\n",
    "\n",
    "    XTest    = X[test_index]\n",
    "    yTest  = y[test_index]\n",
    "\n",
    "    ### Training the model\n",
    "    print('Training the model for fold: ' + str(indFold))\n",
    "    svc.fit(XTrain, yTrain)\n",
    "\n",
    "    yPred = svc.predict(XTest)\n",
    "\n",
    "    # accuracy for the current fold only    \n",
    "    accFold = np.sum(yPred==yTest) / yTest.shape[0]\n",
    "    accAll[indFold] = accFold\n",
    "    print('  Acc : ' + str(accFold))\n",
    "    \n",
    "    yPredAll[test_index] = yPred\n",
    "\n",
    "    indFold = indFold + 1\n",
    "\n",
    "# Average accuracy over all folds\n",
    "accAvg = np.mean(accAll)\n",
    "print('Avg Acc. :' + str(accAvg))\n",
    "\n",
    "acc =  np.sum(y==yPredAll) / y.shape[0]\n",
    "print('Acc. for the combined folds :' + str(acc))\n"
   ]
  },
  {
   "cell_type": "markdown",
   "metadata": {},
   "source": [
    "## k-Fold Cross-Validation using scikit functions"
   ]
  },
  {
   "cell_type": "code",
   "execution_count": 21,
   "metadata": {},
   "outputs": [
    {
     "name": "stdout",
     "output_type": "stream",
     "text": [
      "[0.84333333 0.84       0.85333333 0.84333333]\n"
     ]
    }
   ],
   "source": [
    "from sklearn.model_selection import cross_val_score\n",
    "print(cross_val_score(svc, X, y, cv=4))"
   ]
  },
  {
   "cell_type": "markdown",
   "metadata": {},
   "source": [
    "## Cross-validated parameter optimization"
   ]
  },
  {
   "cell_type": "code",
   "execution_count": null,
   "metadata": {},
   "outputs": [],
   "source": [
    "from sklearn import svm\n",
    "from sklearn.model_selection import GridSearchCV\n",
    "\n",
    "import warnings\n",
    "warnings.filterwarnings('ignore')\n",
    "\n",
    "parameters = {'kernel':('linear', 'rbf'), 'C':[1, 10]}\n",
    "svc = svm.SVC()\n",
    "clf = GridSearchCV(svc, parameters)\n",
    "clf.fit(X, y)"
   ]
  },
  {
   "cell_type": "code",
   "execution_count": 28,
   "metadata": {},
   "outputs": [
    {
     "data": {
      "text/plain": [
       "{'mean_fit_time': array([2.21170831, 1.03902817, 5.61492364, 0.90800118]),\n",
       " 'std_fit_time': array([0.04443957, 0.04076918, 0.3832568 , 0.02782958]),\n",
       " 'mean_score_time': array([0.45853202, 0.43688019, 0.45555965, 0.37071403]),\n",
       " 'std_score_time': array([0.02337551, 0.02089812, 0.00136054, 0.01174374]),\n",
       " 'param_C': masked_array(data=[1, 1, 10, 10],\n",
       "              mask=[False, False, False, False],\n",
       "        fill_value='?',\n",
       "             dtype=object),\n",
       " 'param_kernel': masked_array(data=['linear', 'rbf', 'linear', 'rbf'],\n",
       "              mask=[False, False, False, False],\n",
       "        fill_value='?',\n",
       "             dtype=object),\n",
       " 'params': [{'C': 1, 'kernel': 'linear'},\n",
       "  {'C': 1, 'kernel': 'rbf'},\n",
       "  {'C': 10, 'kernel': 'linear'},\n",
       "  {'C': 10, 'kernel': 'rbf'}],\n",
       " 'split0_test_score': array([0.825 , 0.8725, 0.8175, 0.91  ]),\n",
       " 'split1_test_score': array([0.84  , 0.8975, 0.8175, 0.9325]),\n",
       " 'split2_test_score': array([0.845 , 0.8825, 0.825 , 0.925 ]),\n",
       " 'mean_test_score': array([0.83666667, 0.88416667, 0.82      , 0.9225    ]),\n",
       " 'std_test_score': array([0.00849837, 0.01027402, 0.00353553, 0.00935414]),\n",
       " 'rank_test_score': array([3, 2, 4, 1], dtype=int32)}"
      ]
     },
     "execution_count": 28,
     "metadata": {},
     "output_type": "execute_result"
    }
   ],
   "source": [
    "clf.cv_results_"
   ]
  },
  {
   "cell_type": "markdown",
   "metadata": {},
   "source": [
    "## Nested cross-validation\n",
    "- Inner loop: parameter optimization\n",
    "- Outer loop: k-fold CV to calculate test accuracy\n",
    "\n",
    "https://scikit-learn.org/stable/auto_examples/model_selection/plot_nested_cross_validation_iris.html"
   ]
  },
  {
   "cell_type": "code",
   "execution_count": 41,
   "metadata": {},
   "outputs": [
    {
     "name": "stdout",
     "output_type": "stream",
     "text": [
      "Automatically created module for IPython interactive environment\n",
      "Ind trial: 0\n",
      "Ind trial: 1\n",
      "Ind trial: 2\n",
      "Ind trial: 3\n",
      "Ind trial: 4\n",
      "Average difference of 0.020007 with std. dev. of 0.004218.\n"
     ]
    },
    {
     "data": {
      "image/png": "[encoded data removed]",
      "text/plain": [
       "<Figure size 432x288 with 2 Axes>"
      ]
     },
     "metadata": {
      "needs_background": "light"
     },
     "output_type": "display_data"
    }
   ],
   "source": [
    "from sklearn.datasets import load_iris\n",
    "from matplotlib import pyplot as plt\n",
    "from sklearn.svm import SVC\n",
    "from sklearn.model_selection import GridSearchCV, cross_val_score, KFold\n",
    "import numpy as np\n",
    "\n",
    "import warnings\n",
    "warnings.filterwarnings('ignore')\n",
    "\n",
    "print(__doc__)\n",
    "\n",
    "# Number of random trials\n",
    "NUM_TRIALS = 50\n",
    "NUM_TRIALS = 5\n",
    "\n",
    "# Load the dataset\n",
    "iris = load_iris()\n",
    "X_iris = iris.data\n",
    "y_iris = iris.target\n",
    "\n",
    "# Set up possible values of parameters to optimize over\n",
    "p_grid = {\"C\": [1, 10, 100],\n",
    "          \"gamma\": [.01, .1]}\n",
    "\n",
    "# We will use a Support Vector Classifier with \"rbf\" kernel\n",
    "svm = SVC(kernel=\"rbf\")\n",
    "\n",
    "# Arrays to store scores\n",
    "non_nested_scores = np.zeros(NUM_TRIALS)\n",
    "nested_scores = np.zeros(NUM_TRIALS)\n",
    "\n",
    "\n",
    "# Loop for each trial\n",
    "for i in range(NUM_TRIALS):\n",
    "\n",
    "    print('Ind trial: ' + str(i))\n",
    "    \n",
    "    # Choose cross-validation techniques for the inner and outer loops,\n",
    "    # independently of the dataset.\n",
    "    # E.g \"GroupKFold\", \"LeaveOneOut\", \"LeaveOneGroupOut\", etc.\n",
    "    inner_cv = KFold(n_splits=4, shuffle=True, random_state=i)\n",
    "    outer_cv = KFold(n_splits=4, shuffle=True, random_state=i)\n",
    "\n",
    "    # Non_nested parameter search and scoring\n",
    "    #clf = GridSearchCV(estimator=svm, param_grid=p_grid, cv=inner_cv)\n",
    "    clf.fit(X, y)\n",
    "    clf.fit(X_iris, y_iris)\n",
    "    non_nested_scores[i] = clf.best_score_\n",
    "\n",
    "    # Nested CV with parameter optimization\n",
    "    nested_score = cross_val_score(clf, X=X_iris, y=y_iris, cv=outer_cv)\n",
    "    nested_scores[i] = nested_score.mean()\n",
    "\n",
    "score_difference = non_nested_scores - nested_scores\n",
    "\n",
    "print(\"Average difference of {:6f} with std. dev. of {:6f}.\"\n",
    "      .format(score_difference.mean(), score_difference.std()))\n",
    "\n",
    "# Plot scores on each trial for nested and non-nested CV\n",
    "plt.figure()\n",
    "plt.subplot(211)\n",
    "non_nested_scores_line, = plt.plot(non_nested_scores, color='r')\n",
    "nested_line, = plt.plot(nested_scores, color='b')\n",
    "plt.ylabel(\"score\", fontsize=\"14\")\n",
    "plt.legend([non_nested_scores_line, nested_line],\n",
    "           [\"Non-Nested CV\", \"Nested CV\"],\n",
    "           bbox_to_anchor=(0, .4, .5, 0))\n",
    "plt.title(\"Non-Nested and Nested Cross Validation on Iris Dataset\",\n",
    "          x=.5, y=1.1, fontsize=\"15\")\n",
    "\n",
    "# Plot bar chart of the difference.\n",
    "plt.subplot(212)\n",
    "difference_plot = plt.bar(range(NUM_TRIALS), score_difference)\n",
    "plt.xlabel(\"Individual Trial #\")\n",
    "plt.legend([difference_plot],\n",
    "           [\"Non-Nested CV - Nested CV Score\"],\n",
    "           bbox_to_anchor=(0, 1, .8, 0))\n",
    "plt.ylabel(\"score difference\", fontsize=\"14\")\n",
    "\n",
    "plt.show()"
   ]
  },
  {
   "cell_type": "code",
   "execution_count": 36,
   "metadata": {},
   "outputs": [
    {
     "data": {
      "text/plain": [
       "(1200, 4096)"
      ]
     },
     "execution_count": 36,
     "metadata": {},
     "output_type": "execute_result"
    }
   ],
   "source": [
    "X.shape\n",
    "y.shape\n",
    "XBal.shape\n"
   ]
  }
 ],
 "metadata": {
  "colab": {
   "collapsed_sections": [],
   "name": "PrjC1_EuroSat_Classification.ipynb",
   "provenance": [
    {
     "file_id": "1wJo3Tsqy53ZwgNPy8gtZ3JgjDDQQK9vk",
     "timestamp": 1570414921066
    }
   ]
  },
  "kernelspec": {
   "display_name": "Python 3",
   "language": "python",
   "name": "python3"
  },
  "language_info": {
   "codemirror_mode": {
    "name": "ipython",
    "version": 3
   },
   "file_extension": ".py",
   "mimetype": "text/x-python",
   "name": "python",
   "nbconvert_exporter": "python",
   "pygments_lexer": "ipython3",
   "version": "3.7.3"
  }
 },
 "nbformat": 4,
 "nbformat_minor": 1
}
